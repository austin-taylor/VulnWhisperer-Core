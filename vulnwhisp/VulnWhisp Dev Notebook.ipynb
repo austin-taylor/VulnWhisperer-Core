{
 "cells": [
  {
   "cell_type": "code",
   "execution_count": 2,
   "metadata": {
    "collapsed": true
   },
   "outputs": [],
   "source": [
    "config = '../configs/frameworks_test.ini'"
   ]
  },
  {
   "cell_type": "code",
   "execution_count": 4,
   "metadata": {
    "collapsed": true
   },
   "outputs": [],
   "source": [
    "from frameworks import qualys"
   ]
  },
  {
   "cell_type": "code",
   "execution_count": 5,
   "metadata": {},
   "outputs": [
    {
     "name": "stderr",
     "output_type": "stream",
     "text": [
      "WARNING:root:../configs/frameworks_test.ini permissions allows more than user access.\n",
      "WARNING:root:../configs/frameworks_test.ini permissions allows more than user access.\n"
     ]
    },
    {
     "name": "stdout",
     "output_type": "stream",
     "text": [
      "[SUCCESS] - Connected to Qualys at qualysapi.qg2.apps.qualys.com\n"
     ]
    }
   ],
   "source": [
    "q = qualys.qualysWhisperAPI(config=config)"
   ]
  },
  {
   "cell_type": "code",
   "execution_count": 6,
   "metadata": {},
   "outputs": [
    {
     "name": "stderr",
     "output_type": "stream",
     "text": [
      "ERROR:qualysapi.connector:Content = \n",
      "<?xml version=\"1.0\" encoding=\"UTF-8\" ?>\n",
      "<!DOCTYPE SIMPLE_RETURN SYSTEM \"https://qualysapi.qg2.apps.qualys.com/api/2.0/simple_return.dtd\">\n",
      "<SIMPLE_RETURN>\n",
      "  <RESPONSE>\n",
      "    <DATETIME>2017-12-31T11:43:58Z</DATETIME>\n",
      "    <CODE>2000</CODE>\n",
      "    <TEXT>Bad Login/Password</TEXT>\n",
      "  </RESPONSE>\n",
      "</SIMPLE_RETURN>\n",
      "\n",
      "ERROR:qualysapi.connector:Headers = \n",
      "{'X-XSS-Protection': '1', 'X-Content-Type-Options': 'nosniff', 'Transfer-Encoding': 'chunked', 'Keep-Alive': 'timeout=300, max=244', 'Server': 'Qualys', 'Connection': 'Keep-Alive', 'Date': 'Sun, 31 Dec 2017 11:43:57 GMT', 'X-Frame-Options': 'SAMEORIGIN', 'Content-Type': 'text/xml;charset=UTF-8'}\n"
     ]
    },
    {
     "name": "stdout",
     "output_type": "stream",
     "text": [
      "Error! Received a 4XX client error or 5XX server error response.\n",
      "Content = \n",
      " <?xml version=\"1.0\" encoding=\"UTF-8\" ?>\n",
      "<!DOCTYPE SIMPLE_RETURN SYSTEM \"https://qualysapi.qg2.apps.qualys.com/api/2.0/simple_return.dtd\">\n",
      "<SIMPLE_RETURN>\n",
      "  <RESPONSE>\n",
      "    <DATETIME>2017-12-31T11:43:58Z</DATETIME>\n",
      "    <CODE>2000</CODE>\n",
      "    <TEXT>Bad Login/Password</TEXT>\n",
      "  </RESPONSE>\n",
      "</SIMPLE_RETURN>\n",
      "\n",
      "Headers = \n",
      " {'X-XSS-Protection': '1', 'X-Content-Type-Options': 'nosniff', 'Transfer-Encoding': 'chunked', 'Keep-Alive': 'timeout=300, max=244', 'Server': 'Qualys', 'Connection': 'Keep-Alive', 'Date': 'Sun, 31 Dec 2017 11:43:57 GMT', 'X-Frame-Options': 'SAMEORIGIN', 'Content-Type': 'text/xml;charset=UTF-8'}\n"
     ]
    },
    {
     "ename": "HTTPError",
     "evalue": "401 Client Error: Unauthorized for url: https://qualysapi.qg2.apps.qualys.com/api/2.0/fo/report/?action=list/",
     "output_type": "error",
     "traceback": [
      "\u001b[0;31m---------------------------------------------------------------------------\u001b[0m",
      "\u001b[0;31mHTTPError\u001b[0m                                 Traceback (most recent call last)",
      "\u001b[0;32m<ipython-input-6-daf5739a194a>\u001b[0m in \u001b[0;36m<module>\u001b[0;34m()\u001b[0m\n\u001b[0;32m----> 1\u001b[0;31m \u001b[0mq\u001b[0m\u001b[0;34m.\u001b[0m\u001b[0mqgc\u001b[0m\u001b[0;34m.\u001b[0m\u001b[0mrequest\u001b[0m\u001b[0;34m(\u001b[0m\u001b[0;34m'/api/2.0/fo/report/?action=list'\u001b[0m\u001b[0;34m)\u001b[0m\u001b[0;34m\u001b[0m\u001b[0m\n\u001b[0m",
      "\u001b[0;32m/Users/huntoperator/anaconda2/lib/python2.7/site-packages/qualysapi-4.1.0-py2.7.egg/qualysapi/connector.pyc\u001b[0m in \u001b[0;36mrequest\u001b[0;34m(self, api_call, data, api_version, http_method, concurrent_scans_retries, concurrent_scans_retry_delay)\u001b[0m\n\u001b[1;32m    353\u001b[0m             \u001b[0;32mprint\u001b[0m\u001b[0;34m(\u001b[0m\u001b[0;34m'Headers = \\n'\u001b[0m\u001b[0;34m,\u001b[0m \u001b[0mrequest\u001b[0m\u001b[0;34m.\u001b[0m\u001b[0mheaders\u001b[0m\u001b[0;34m)\u001b[0m\u001b[0;34m\u001b[0m\u001b[0m\n\u001b[1;32m    354\u001b[0m             \u001b[0mlogger\u001b[0m\u001b[0;34m.\u001b[0m\u001b[0merror\u001b[0m\u001b[0;34m(\u001b[0m\u001b[0;34m'Headers = \\n%s'\u001b[0m \u001b[0;34m%\u001b[0m \u001b[0mstr\u001b[0m\u001b[0;34m(\u001b[0m\u001b[0mrequest\u001b[0m\u001b[0;34m.\u001b[0m\u001b[0mheaders\u001b[0m\u001b[0;34m)\u001b[0m\u001b[0;34m)\u001b[0m\u001b[0;34m\u001b[0m\u001b[0m\n\u001b[0;32m--> 355\u001b[0;31m             \u001b[0mrequest\u001b[0m\u001b[0;34m.\u001b[0m\u001b[0mraise_for_status\u001b[0m\u001b[0;34m(\u001b[0m\u001b[0;34m)\u001b[0m\u001b[0;34m\u001b[0m\u001b[0m\n\u001b[0m\u001b[1;32m    356\u001b[0m         \u001b[0;32mif\u001b[0m \u001b[0;34m'<RETURN status=\"FAILED\" number=\"2007\">'\u001b[0m \u001b[0;32min\u001b[0m \u001b[0mresponse\u001b[0m\u001b[0;34m:\u001b[0m\u001b[0;34m\u001b[0m\u001b[0m\n\u001b[1;32m    357\u001b[0m             \u001b[0;32mprint\u001b[0m\u001b[0;34m(\u001b[0m\u001b[0;34m'Error! Your IP address is not in the list of secure IPs. Manager must include this IP (QualysGuard VM > Users > Security).'\u001b[0m\u001b[0;34m)\u001b[0m\u001b[0;34m\u001b[0m\u001b[0m\n",
      "\u001b[0;32m/Users/huntoperator/anaconda2/lib/python2.7/site-packages/requests/models.pyc\u001b[0m in \u001b[0;36mraise_for_status\u001b[0;34m(self)\u001b[0m\n\u001b[1;32m    933\u001b[0m \u001b[0;34m\u001b[0m\u001b[0m\n\u001b[1;32m    934\u001b[0m         \u001b[0;32mif\u001b[0m \u001b[0mhttp_error_msg\u001b[0m\u001b[0;34m:\u001b[0m\u001b[0;34m\u001b[0m\u001b[0m\n\u001b[0;32m--> 935\u001b[0;31m             \u001b[0;32mraise\u001b[0m \u001b[0mHTTPError\u001b[0m\u001b[0;34m(\u001b[0m\u001b[0mhttp_error_msg\u001b[0m\u001b[0;34m,\u001b[0m \u001b[0mresponse\u001b[0m\u001b[0;34m=\u001b[0m\u001b[0mself\u001b[0m\u001b[0;34m)\u001b[0m\u001b[0;34m\u001b[0m\u001b[0m\n\u001b[0m\u001b[1;32m    936\u001b[0m \u001b[0;34m\u001b[0m\u001b[0m\n\u001b[1;32m    937\u001b[0m     \u001b[0;32mdef\u001b[0m \u001b[0mclose\u001b[0m\u001b[0;34m(\u001b[0m\u001b[0mself\u001b[0m\u001b[0;34m)\u001b[0m\u001b[0;34m:\u001b[0m\u001b[0;34m\u001b[0m\u001b[0m\n",
      "\u001b[0;31mHTTPError\u001b[0m: 401 Client Error: Unauthorized for url: https://qualysapi.qg2.apps.qualys.com/api/2.0/fo/report/?action=list/"
     ]
    }
   ],
   "source": [
    "q.qgc.request('/api/2.0/fo/report/?action=list')"
   ]
  },
  {
   "cell_type": "code",
   "execution_count": null,
   "metadata": {
    "collapsed": true
   },
   "outputs": [],
   "source": []
  },
  {
   "cell_type": "code",
   "execution_count": null,
   "metadata": {},
   "outputs": [],
   "source": []
  }
 ],
 "metadata": {
  "kernelspec": {
   "display_name": "Python 2",
   "language": "python",
   "name": "python2"
  },
  "language_info": {
   "codemirror_mode": {
    "name": "ipython",
    "version": 2
   },
   "file_extension": ".py",
   "mimetype": "text/x-python",
   "name": "python",
   "nbconvert_exporter": "python",
   "pygments_lexer": "ipython2",
   "version": "2.7.13"
  }
 },
 "nbformat": 4,
 "nbformat_minor": 2
}
